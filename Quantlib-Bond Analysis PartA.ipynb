{
 "cells": [
  {
   "cell_type": "code",
   "execution_count": 11,
   "metadata": {
    "colab": {
     "base_uri": "https://localhost:8080/",
     "height": 34
    },
    "colab_type": "code",
    "id": "krqZ0QSw18AL",
    "outputId": "49e395c1-8530-4919-d245-0595e2d590f7"
   },
   "outputs": [
    {
     "name": "stdout",
     "output_type": "stream",
     "text": [
      "Requirement already satisfied: Quantlib in /usr/local/lib/python3.6/dist-packages (1.17)\n"
     ]
    }
   ],
   "source": [
    "pip install Quantlib"
   ]
  },
  {
   "cell_type": "code",
   "execution_count": 0,
   "metadata": {
    "colab": {},
    "colab_type": "code",
    "id": "SCWB6joo2IM_"
   },
   "outputs": [],
   "source": [
    "import QuantLib as ql"
   ]
  },
  {
   "cell_type": "code",
   "execution_count": 0,
   "metadata": {
    "colab": {},
    "colab_type": "code",
    "id": "HZH6Sm2hmSVX"
   },
   "outputs": [],
   "source": [
    "import pandas as pd"
   ]
  },
  {
   "cell_type": "code",
   "execution_count": 0,
   "metadata": {
    "colab": {},
    "colab_type": "code",
    "id": "sYlLwymtmatu"
   },
   "outputs": [],
   "source": [
    "def CompoundInterestSchedule(b,t,r,f):\n",
    "    df=pd.DataFrame(columns=['Time','Starting Balance','Interest Earned','Ending Balance'])\n",
    "    df['Time']=list(range(1,t+1))\n",
    "    df.set_index('Time',inplace=True)\n",
    "    for i in df.index:\n",
    "      if i==1:\n",
    "        df.loc[i,'Starting Balance']=b\n",
    "        df.loc[i,'Interest Earned']=b*(r/f)+(b+b*(r/f))*(r/f)\n",
    "        df.loc[i,'Ending Balance']=b*((1+r/f)**f)\n",
    "      else:\n",
    "        df.loc[i,'Starting Balance']=df.loc[i-1,'Ending Balance']\n",
    "        df.loc[i,'Interest Earned']=df.loc[i,'Starting Balance']*(r/f)+(df.loc[i,'Starting Balance']+df.loc[i,'Starting Balance']*(r/f))*(r/f)\n",
    "        df.loc[i,'Ending Balance']=df.loc[i,'Starting Balance']+df.loc[i,'Interest Earned']\n",
    "    return df"
   ]
  },
  {
   "cell_type": "code",
   "execution_count": 55,
   "metadata": {
    "colab": {
     "base_uri": "https://localhost:8080/",
     "height": 134
    },
    "colab_type": "code",
    "id": "VUwZAyzMXfmJ",
    "outputId": "ccdea03b-cbfc-46de-8d1c-04fd2bfa61df"
   },
   "outputs": [
    {
     "name": "stdout",
     "output_type": "stream",
     "text": [
      "     Starting Balance Interest Earned Ending Balance\n",
      "Time                                                \n",
      "1                1000          50.625        1050.62\n",
      "2             1050.62         53.1879        1103.81\n",
      "3             1103.81         55.8805        1159.69\n",
      "4             1159.69         58.7095         1218.4\n",
      "5              1218.4         61.6816        1280.08\n"
     ]
    }
   ],
   "source": [
    "b=1000\n",
    "t=5\n",
    "r=0.05\n",
    "f=2\n",
    "BondSchedule=CompoundInterestSchedule(b,t,r,f)\n",
    "print(BondSchedule)"
   ]
  },
  {
   "cell_type": "code",
   "execution_count": 0,
   "metadata": {
    "colab": {},
    "colab_type": "code",
    "id": "iAxOd1Geldhs"
   },
   "outputs": [],
   "source": []
  }
 ],
 "metadata": {
  "colab": {
   "collapsed_sections": [],
   "name": "QianyueLin Asn6 PartA.ipynb",
   "provenance": []
  },
  "kernelspec": {
   "display_name": "Python 3",
   "language": "python",
   "name": "python3"
  },
  "language_info": {
   "codemirror_mode": {
    "name": "ipython",
    "version": 3
   },
   "file_extension": ".py",
   "mimetype": "text/x-python",
   "name": "python",
   "nbconvert_exporter": "python",
   "pygments_lexer": "ipython3",
   "version": "3.7.4"
  }
 },
 "nbformat": 4,
 "nbformat_minor": 1
}
