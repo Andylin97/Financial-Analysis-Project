{
 "cells": [
  {
   "cell_type": "code",
   "execution_count": 0,
   "metadata": {
    "colab": {
     "base_uri": "https://localhost:8080/",
     "height": 34
    },
    "colab_type": "code",
    "id": "40Ph2al7tqpO",
    "outputId": "edbff785-cd53-4483-a0ae-3e793e582bd2"
   },
   "outputs": [
    {
     "name": "stdout",
     "output_type": "stream",
     "text": [
      "Requirement already satisfied: Quantlib in /usr/local/lib/python3.6/dist-packages (1.17)\n"
     ]
    }
   ],
   "source": [
    "pip install Quantlib"
   ]
  },
  {
   "cell_type": "code",
   "execution_count": 0,
   "metadata": {
    "colab": {},
    "colab_type": "code",
    "id": "P4OxyEc3t3gw"
   },
   "outputs": [],
   "source": [
    "import QuantLib as ql\n",
    "import pandas as pd"
   ]
  },
  {
   "cell_type": "code",
   "execution_count": 0,
   "metadata": {
    "colab": {},
    "colab_type": "code",
    "id": "mEZcQgHTvVxq"
   },
   "outputs": [],
   "source": [
    "issueDate = ql.Date(18, 2, 2020)\n",
    "maturityDate = ql.Date(15, 2, 2050)\n",
    "frequency = ql.Period(ql.Semiannual)\n",
    "calendar = ql.UnitedStates()\n",
    "businessConvention = ql.Following\n",
    "dateGeneration = ql.DateGeneration.Backward\n",
    "monthEnd = False"
   ]
  },
  {
   "cell_type": "code",
   "execution_count": 55,
   "metadata": {
    "colab": {
     "base_uri": "https://localhost:8080/",
     "height": 1000
    },
    "colab_type": "code",
    "id": "Jr5YiZZ2zfSh",
    "outputId": "d38907af-030d-45a5-801c-60ce9657e371"
   },
   "outputs": [
    {
     "name": "stdout",
     "output_type": "stream",
     "text": [
      "February 18th, 2020\n",
      "August 17th, 2020\n",
      "February 16th, 2021\n",
      "August 16th, 2021\n",
      "February 15th, 2022\n",
      "August 15th, 2022\n",
      "February 15th, 2023\n",
      "August 15th, 2023\n",
      "February 15th, 2024\n",
      "August 15th, 2024\n",
      "February 18th, 2025\n",
      "August 15th, 2025\n",
      "February 17th, 2026\n",
      "August 17th, 2026\n",
      "February 16th, 2027\n",
      "August 16th, 2027\n",
      "February 15th, 2028\n",
      "August 15th, 2028\n",
      "February 15th, 2029\n",
      "August 15th, 2029\n",
      "February 15th, 2030\n",
      "August 15th, 2030\n",
      "February 18th, 2031\n",
      "August 15th, 2031\n",
      "February 17th, 2032\n",
      "August 16th, 2032\n",
      "February 15th, 2033\n",
      "August 15th, 2033\n",
      "February 15th, 2034\n",
      "August 15th, 2034\n",
      "February 15th, 2035\n",
      "August 15th, 2035\n",
      "February 15th, 2036\n",
      "August 15th, 2036\n",
      "February 17th, 2037\n",
      "August 17th, 2037\n",
      "February 16th, 2038\n",
      "August 16th, 2038\n",
      "February 15th, 2039\n",
      "August 15th, 2039\n",
      "February 15th, 2040\n",
      "August 15th, 2040\n",
      "February 15th, 2041\n",
      "August 15th, 2041\n",
      "February 18th, 2042\n",
      "August 15th, 2042\n",
      "February 17th, 2043\n",
      "August 17th, 2043\n",
      "February 16th, 2044\n",
      "August 15th, 2044\n",
      "February 15th, 2045\n",
      "August 15th, 2045\n",
      "February 15th, 2046\n",
      "August 15th, 2046\n",
      "February 15th, 2047\n",
      "August 15th, 2047\n",
      "February 18th, 2048\n",
      "August 17th, 2048\n",
      "February 16th, 2049\n",
      "August 16th, 2049\n",
      "February 15th, 2050\n"
     ]
    }
   ],
   "source": [
    "schedule = ql.Schedule(issueDate, maturityDate, frequency, calendar, businessConvention, businessConvention, dateGeneration, monthEnd)\n",
    "for item in schedule:\n",
    "    print(item)"
   ]
  },
  {
   "cell_type": "code",
   "execution_count": 0,
   "metadata": {
    "colab": {},
    "colab_type": "code",
    "id": "I7Fgmp-W0AIu"
   },
   "outputs": [],
   "source": [
    "couponRate=0.02\n",
    "coupons=[couponRate]\n",
    "settlementDays=1\n",
    "faceValue=100\n",
    "daycount = ql.Thirty360()"
   ]
  },
  {
   "cell_type": "code",
   "execution_count": 64,
   "metadata": {
    "colab": {
     "base_uri": "https://localhost:8080/",
     "height": 1000
    },
    "colab_type": "code",
    "id": "xZ8EviYo2DmK",
    "outputId": "d93ceaa7-15cb-41b4-c665-9ff525f8e682"
   },
   "outputs": [
    {
     "name": "stdout",
     "output_type": "stream",
     "text": [
      "Date:  August 17th, 2020 \t cash flow:  0.9944\n",
      "Date:  February 16th, 2021 \t cash flow:  0.9944\n",
      "Date:  August 16th, 2021 \t cash flow:  1.0000\n",
      "Date:  February 15th, 2022 \t cash flow:  0.9944\n",
      "Date:  August 15th, 2022 \t cash flow:  1.0000\n",
      "Date:  February 15th, 2023 \t cash flow:  1.0000\n",
      "Date:  August 15th, 2023 \t cash flow:  1.0000\n",
      "Date:  February 15th, 2024 \t cash flow:  1.0000\n",
      "Date:  August 15th, 2024 \t cash flow:  1.0000\n",
      "Date:  February 18th, 2025 \t cash flow:  1.0167\n",
      "Date:  August 15th, 2025 \t cash flow:  0.9833\n",
      "Date:  February 17th, 2026 \t cash flow:  1.0111\n",
      "Date:  August 17th, 2026 \t cash flow:  1.0000\n",
      "Date:  February 16th, 2027 \t cash flow:  0.9944\n",
      "Date:  August 16th, 2027 \t cash flow:  1.0000\n",
      "Date:  February 15th, 2028 \t cash flow:  0.9944\n",
      "Date:  August 15th, 2028 \t cash flow:  1.0000\n",
      "Date:  February 15th, 2029 \t cash flow:  1.0000\n",
      "Date:  August 15th, 2029 \t cash flow:  1.0000\n",
      "Date:  February 15th, 2030 \t cash flow:  1.0000\n",
      "Date:  August 15th, 2030 \t cash flow:  1.0000\n",
      "Date:  February 18th, 2031 \t cash flow:  1.0167\n",
      "Date:  August 15th, 2031 \t cash flow:  0.9833\n",
      "Date:  February 17th, 2032 \t cash flow:  1.0111\n",
      "Date:  August 16th, 2032 \t cash flow:  0.9944\n",
      "Date:  February 15th, 2033 \t cash flow:  0.9944\n",
      "Date:  August 15th, 2033 \t cash flow:  1.0000\n",
      "Date:  February 15th, 2034 \t cash flow:  1.0000\n",
      "Date:  August 15th, 2034 \t cash flow:  1.0000\n",
      "Date:  February 15th, 2035 \t cash flow:  1.0000\n",
      "Date:  August 15th, 2035 \t cash flow:  1.0000\n",
      "Date:  February 15th, 2036 \t cash flow:  1.0000\n",
      "Date:  August 15th, 2036 \t cash flow:  1.0000\n",
      "Date:  February 17th, 2037 \t cash flow:  1.0111\n",
      "Date:  August 17th, 2037 \t cash flow:  1.0000\n",
      "Date:  February 16th, 2038 \t cash flow:  0.9944\n",
      "Date:  August 16th, 2038 \t cash flow:  1.0000\n",
      "Date:  February 15th, 2039 \t cash flow:  0.9944\n",
      "Date:  August 15th, 2039 \t cash flow:  1.0000\n",
      "Date:  February 15th, 2040 \t cash flow:  1.0000\n",
      "Date:  August 15th, 2040 \t cash flow:  1.0000\n",
      "Date:  February 15th, 2041 \t cash flow:  1.0000\n",
      "Date:  August 15th, 2041 \t cash flow:  1.0000\n",
      "Date:  February 18th, 2042 \t cash flow:  1.0167\n",
      "Date:  August 15th, 2042 \t cash flow:  0.9833\n",
      "Date:  February 17th, 2043 \t cash flow:  1.0111\n",
      "Date:  August 17th, 2043 \t cash flow:  1.0000\n",
      "Date:  February 16th, 2044 \t cash flow:  0.9944\n",
      "Date:  August 15th, 2044 \t cash flow:  0.9944\n",
      "Date:  February 15th, 2045 \t cash flow:  1.0000\n",
      "Date:  August 15th, 2045 \t cash flow:  1.0000\n",
      "Date:  February 15th, 2046 \t cash flow:  1.0000\n",
      "Date:  August 15th, 2046 \t cash flow:  1.0000\n",
      "Date:  February 15th, 2047 \t cash flow:  1.0000\n",
      "Date:  August 15th, 2047 \t cash flow:  1.0000\n",
      "Date:  February 18th, 2048 \t cash flow:  1.0167\n",
      "Date:  August 17th, 2048 \t cash flow:  0.9944\n",
      "Date:  February 16th, 2049 \t cash flow:  0.9944\n",
      "Date:  August 16th, 2049 \t cash flow:  1.0000\n",
      "Date:  February 15th, 2050 \t cash flow:  0.9944\n",
      "Date:  February 15th, 2050 \t cash flow:  100.0000\n"
     ]
    }
   ],
   "source": [
    "fixedRateBond = ql.FixedRateBond(settlementDays, faceValue, schedule, coupons, daycount)\n",
    "for i in fixedRateBond.cashflows():\n",
    "    print('Date: ',i.date(),'\\t cash flow: ',f'{i.amount():.4f}')"
   ]
  },
  {
   "cell_type": "code",
   "execution_count": 58,
   "metadata": {
    "colab": {
     "base_uri": "https://localhost:8080/",
     "height": 34
    },
    "colab_type": "code",
    "id": "osmJHMFi5lM3",
    "outputId": "0afa7111-994e-4eb3-8287-19d5dab9e495"
   },
   "outputs": [
    {
     "name": "stdout",
     "output_type": "stream",
     "text": [
      "0.0888888888888939\n"
     ]
    }
   ],
   "source": [
    "#Accured Interest in Settlement Date\n",
    "settleDate = ql.Date(4, 3, 2020)\n",
    "accrued = fixedRateBond.accruedAmount(settleDate)\n",
    "print(accrued)"
   ]
  },
  {
   "cell_type": "code",
   "execution_count": 65,
   "metadata": {
    "colab": {
     "base_uri": "https://localhost:8080/",
     "height": 34
    },
    "colab_type": "code",
    "id": "HlZ6TJVh5994",
    "outputId": "bc329466-b660-4c27-f97c-1da7575f9754"
   },
   "outputs": [
    {
     "name": "stdout",
     "output_type": "stream",
     "text": [
      "125.5152\n"
     ]
    }
   ],
   "source": [
    "#flat Price\n",
    "yld=0.0101\n",
    "calcPrice = fixedRateBond.cleanPrice(yld,ql.ActualActual(ql.ActualActual.Bond), ql.Compounded, ql.Semiannual,settleDate)\n",
    "calcPrice\n",
    "print(\"%.4f\" % calcPrice)"
   ]
  },
  {
   "cell_type": "code",
   "execution_count": 66,
   "metadata": {
    "colab": {
     "base_uri": "https://localhost:8080/",
     "height": 34
    },
    "colab_type": "code",
    "id": "e6LZIQOa8dK1",
    "outputId": "f7529bef-e77f-4ca4-d9e9-bcaa0ca424f8"
   },
   "outputs": [
    {
     "name": "stdout",
     "output_type": "stream",
     "text": [
      "125.6040\n"
     ]
    }
   ],
   "source": [
    "#Full Price\n",
    "FullPrice=accrued+calcPrice\n",
    "print(\"%.4f\" % FullPrice)"
   ]
  },
  {
   "cell_type": "code",
   "execution_count": 0,
   "metadata": {
    "colab": {},
    "colab_type": "code",
    "id": "UmeQ3JCE-hAA"
   },
   "outputs": [],
   "source": []
  }
 ],
 "metadata": {
  "colab": {
   "collapsed_sections": [],
   "name": "QianyueLin Asn6 PartB",
   "provenance": []
  },
  "kernelspec": {
   "display_name": "Python 3",
   "language": "python",
   "name": "python3"
  },
  "language_info": {
   "codemirror_mode": {
    "name": "ipython",
    "version": 3
   },
   "file_extension": ".py",
   "mimetype": "text/x-python",
   "name": "python",
   "nbconvert_exporter": "python",
   "pygments_lexer": "ipython3",
   "version": "3.7.4"
  }
 },
 "nbformat": 4,
 "nbformat_minor": 1
}
