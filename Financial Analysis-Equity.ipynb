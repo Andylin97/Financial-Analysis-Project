{
 "cells": [
  {
   "cell_type": "code",
   "execution_count": 109,
   "metadata": {},
   "outputs": [],
   "source": [
    "import pandas as pd\n",
    "import matplotlib.pyplot as plt\n",
    "import statsmodels\n",
    "import numpy as np"
   ]
  },
  {
   "cell_type": "code",
   "execution_count": 110,
   "metadata": {
    "scrolled": true
   },
   "outputs": [
    {
     "data": {
      "text/html": [
       "<div>\n",
       "<style scoped>\n",
       "    .dataframe tbody tr th:only-of-type {\n",
       "        vertical-align: middle;\n",
       "    }\n",
       "\n",
       "    .dataframe tbody tr th {\n",
       "        vertical-align: top;\n",
       "    }\n",
       "\n",
       "    .dataframe thead th {\n",
       "        text-align: right;\n",
       "    }\n",
       "</style>\n",
       "<table border=\"1\" class=\"dataframe\">\n",
       "  <thead>\n",
       "    <tr style=\"text-align: right;\">\n",
       "      <th></th>\n",
       "      <th>Open</th>\n",
       "      <th>High</th>\n",
       "      <th>Low</th>\n",
       "      <th>Close</th>\n",
       "      <th>Adj Close</th>\n",
       "      <th>Volume</th>\n",
       "      <th>Daily Return</th>\n",
       "    </tr>\n",
       "    <tr>\n",
       "      <th>Date</th>\n",
       "      <th></th>\n",
       "      <th></th>\n",
       "      <th></th>\n",
       "      <th></th>\n",
       "      <th></th>\n",
       "      <th></th>\n",
       "      <th></th>\n",
       "    </tr>\n",
       "  </thead>\n",
       "  <tbody>\n",
       "    <tr>\n",
       "      <th>2015-03-02</th>\n",
       "      <td>142.229996</td>\n",
       "      <td>143.460007</td>\n",
       "      <td>141.699997</td>\n",
       "      <td>143.429993</td>\n",
       "      <td>123.238670</td>\n",
       "      <td>1894600</td>\n",
       "      <td>NaN</td>\n",
       "    </tr>\n",
       "    <tr>\n",
       "      <th>2015-03-03</th>\n",
       "      <td>144.600006</td>\n",
       "      <td>146.130005</td>\n",
       "      <td>144.259995</td>\n",
       "      <td>145.360001</td>\n",
       "      <td>124.896965</td>\n",
       "      <td>6469800</td>\n",
       "      <td>0.013456</td>\n",
       "    </tr>\n",
       "    <tr>\n",
       "      <th>2015-03-04</th>\n",
       "      <td>145.050003</td>\n",
       "      <td>145.330002</td>\n",
       "      <td>142.580002</td>\n",
       "      <td>143.949997</td>\n",
       "      <td>123.685455</td>\n",
       "      <td>2853800</td>\n",
       "      <td>-0.009700</td>\n",
       "    </tr>\n",
       "    <tr>\n",
       "      <th>2015-03-05</th>\n",
       "      <td>143.520004</td>\n",
       "      <td>143.919998</td>\n",
       "      <td>142.199997</td>\n",
       "      <td>142.270004</td>\n",
       "      <td>122.241936</td>\n",
       "      <td>2104900</td>\n",
       "      <td>-0.011671</td>\n",
       "    </tr>\n",
       "    <tr>\n",
       "      <th>2015-03-06</th>\n",
       "      <td>141.199997</td>\n",
       "      <td>142.509995</td>\n",
       "      <td>139.919998</td>\n",
       "      <td>140.419998</td>\n",
       "      <td>120.652367</td>\n",
       "      <td>1736900</td>\n",
       "      <td>-0.013003</td>\n",
       "    </tr>\n",
       "    <tr>\n",
       "      <th>...</th>\n",
       "      <td>...</td>\n",
       "      <td>...</td>\n",
       "      <td>...</td>\n",
       "      <td>...</td>\n",
       "      <td>...</td>\n",
       "      <td>...</td>\n",
       "      <td>...</td>\n",
       "    </tr>\n",
       "    <tr>\n",
       "      <th>2020-02-21</th>\n",
       "      <td>165.960007</td>\n",
       "      <td>167.529999</td>\n",
       "      <td>163.559998</td>\n",
       "      <td>167.460007</td>\n",
       "      <td>167.460007</td>\n",
       "      <td>1139600</td>\n",
       "      <td>0.002035</td>\n",
       "    </tr>\n",
       "    <tr>\n",
       "      <th>2020-02-24</th>\n",
       "      <td>162.330002</td>\n",
       "      <td>163.809998</td>\n",
       "      <td>161.210007</td>\n",
       "      <td>162.779999</td>\n",
       "      <td>162.779999</td>\n",
       "      <td>1551500</td>\n",
       "      <td>-0.027947</td>\n",
       "    </tr>\n",
       "    <tr>\n",
       "      <th>2020-02-25</th>\n",
       "      <td>163.720001</td>\n",
       "      <td>164.330002</td>\n",
       "      <td>160.289993</td>\n",
       "      <td>161.009995</td>\n",
       "      <td>161.009995</td>\n",
       "      <td>1995300</td>\n",
       "      <td>-0.010874</td>\n",
       "    </tr>\n",
       "    <tr>\n",
       "      <th>2020-02-26</th>\n",
       "      <td>162.789993</td>\n",
       "      <td>163.899994</td>\n",
       "      <td>157.639999</td>\n",
       "      <td>157.970001</td>\n",
       "      <td>157.970001</td>\n",
       "      <td>1498900</td>\n",
       "      <td>-0.018881</td>\n",
       "    </tr>\n",
       "    <tr>\n",
       "      <th>2020-02-27</th>\n",
       "      <td>155.220001</td>\n",
       "      <td>160.369995</td>\n",
       "      <td>151.929993</td>\n",
       "      <td>154.460007</td>\n",
       "      <td>154.460007</td>\n",
       "      <td>1855100</td>\n",
       "      <td>-0.022219</td>\n",
       "    </tr>\n",
       "  </tbody>\n",
       "</table>\n",
       "<p>1258 rows × 7 columns</p>\n",
       "</div>"
      ],
      "text/plain": [
       "                  Open        High         Low       Close   Adj Close  \\\n",
       "Date                                                                     \n",
       "2015-03-02  142.229996  143.460007  141.699997  143.429993  123.238670   \n",
       "2015-03-03  144.600006  146.130005  144.259995  145.360001  124.896965   \n",
       "2015-03-04  145.050003  145.330002  142.580002  143.949997  123.685455   \n",
       "2015-03-05  143.520004  143.919998  142.199997  142.270004  122.241936   \n",
       "2015-03-06  141.199997  142.509995  139.919998  140.419998  120.652367   \n",
       "...                ...         ...         ...         ...         ...   \n",
       "2020-02-21  165.960007  167.529999  163.559998  167.460007  167.460007   \n",
       "2020-02-24  162.330002  163.809998  161.210007  162.779999  162.779999   \n",
       "2020-02-25  163.720001  164.330002  160.289993  161.009995  161.009995   \n",
       "2020-02-26  162.789993  163.899994  157.639999  157.970001  157.970001   \n",
       "2020-02-27  155.220001  160.369995  151.929993  154.460007  154.460007   \n",
       "\n",
       "             Volume  Daily Return  \n",
       "Date                               \n",
       "2015-03-02  1894600           NaN  \n",
       "2015-03-03  6469800      0.013456  \n",
       "2015-03-04  2853800     -0.009700  \n",
       "2015-03-05  2104900     -0.011671  \n",
       "2015-03-06  1736900     -0.013003  \n",
       "...             ...           ...  \n",
       "2020-02-21  1139600      0.002035  \n",
       "2020-02-24  1551500     -0.027947  \n",
       "2020-02-25  1995300     -0.010874  \n",
       "2020-02-26  1498900     -0.018881  \n",
       "2020-02-27  1855100     -0.022219  \n",
       "\n",
       "[1258 rows x 7 columns]"
      ]
     },
     "execution_count": 110,
     "metadata": {},
     "output_type": "execute_result"
    }
   ],
   "source": [
    "frame = pd.read_csv(\"CMI.csv\", index_col=0, parse_dates=True)\n",
    "frame['Daily Return']=frame[\"Adj Close\"].pct_change()[1:]\n",
    "frame"
   ]
  },
  {
   "cell_type": "code",
   "execution_count": 111,
   "metadata": {},
   "outputs": [
    {
     "data": {
      "image/png": "[encoded data removed]",
      "text/plain": [
       "<Figure size 432x288 with 1 Axes>"
      ]
     },
     "metadata": {
      "needs_background": "light"
     },
     "output_type": "display_data"
    }
   ],
   "source": [
    "%matplotlib inline\n",
    "plt.title(\"CMI Stock Performance In Recent Five Years\")\n",
    "plt.plot(frame.index, frame[\"Adj Close\"], label='CMI')\n",
    "plt.legend(loc='upper left')\n",
    "plt.show()"
   ]
  },
  {
   "cell_type": "code",
   "execution_count": 112,
   "metadata": {},
   "outputs": [],
   "source": [
    "frameSP500=pd.read_csv(\"^GSPC.csv\", index_col=0, parse_dates=True)"
   ]
  },
  {
   "cell_type": "code",
   "execution_count": 113,
   "metadata": {},
   "outputs": [
    {
     "data": {
      "image/png": "[encoded data removed]",
      "text/plain": [
       "<Figure size 432x288 with 1 Axes>"
      ]
     },
     "metadata": {
      "needs_background": "light"
     },
     "output_type": "display_data"
    }
   ],
   "source": [
    "plt.title(\"CMI Stock & S&P500 Comparance In Recent Five Years\")\n",
    "plt.plot(frame.index, frame[\"Adj Close\"], label='CMI')\n",
    "plt.plot(frameSP500.index,frameSP500[\"Adj Close\"], label=\"SP500\")\n",
    "plt.legend(loc='upper left')\n",
    "plt.show()"
   ]
  },
  {
   "cell_type": "code",
   "execution_count": 114,
   "metadata": {},
   "outputs": [],
   "source": [
    "#Over the period of the chart, Cummins performance is under the S&P 500"
   ]
  },
  {
   "cell_type": "code",
   "execution_count": 115,
   "metadata": {},
   "outputs": [
    {
     "data": {
      "text/plain": [
       "Date\n",
       "2015-03-03    0.013456\n",
       "2015-03-04   -0.009700\n",
       "2015-03-05   -0.011671\n",
       "2015-03-06   -0.013003\n",
       "2015-03-09    0.003774\n",
       "                ...   \n",
       "2020-02-21    0.002035\n",
       "2020-02-24   -0.027947\n",
       "2020-02-25   -0.010874\n",
       "2020-02-26   -0.018881\n",
       "2020-02-27   -0.022219\n",
       "Name: Adj Close, Length: 1257, dtype: float64"
      ]
     },
     "execution_count": 115,
     "metadata": {},
     "output_type": "execute_result"
    }
   ],
   "source": [
    "ACCMI=frame[\"Adj Close\"]\n",
    "DRCMI=ACCMI.pct_change()[1:]\n",
    "DRCMI"
   ]
  },
  {
   "cell_type": "code",
   "execution_count": 116,
   "metadata": {},
   "outputs": [
    {
     "data": {
      "text/plain": [
       "Date\n",
       "2015-03-03   -0.004539\n",
       "2015-03-04   -0.004389\n",
       "2015-03-05    0.001196\n",
       "2015-03-06   -0.014174\n",
       "2015-03-09    0.003944\n",
       "                ...   \n",
       "2020-02-21   -0.010518\n",
       "2020-02-24   -0.033514\n",
       "2020-02-25   -0.030280\n",
       "2020-02-26   -0.003779\n",
       "2020-02-27   -0.044163\n",
       "Name: Adj Close, Length: 1257, dtype: float64"
      ]
     },
     "execution_count": 116,
     "metadata": {},
     "output_type": "execute_result"
    }
   ],
   "source": [
    "ACSP500=frameSP500[\"Adj Close\"]\n",
    "DRSP500=ACSP500.pct_change()[1:]\n",
    "DRSP500"
   ]
  },
  {
   "cell_type": "code",
   "execution_count": 117,
   "metadata": {},
   "outputs": [
    {
     "data": {
      "text/plain": [
       "Date\n",
       "2018-01-02    0.002378\n",
       "2018-01-03    0.011013\n",
       "2018-01-04    0.015307\n",
       "2018-01-05   -0.001596\n",
       "2018-01-08    0.003637\n",
       "                ...   \n",
       "2019-12-24   -0.001433\n",
       "2019-12-26    0.001435\n",
       "2019-12-27   -0.003969\n",
       "2019-12-30   -0.008522\n",
       "2019-12-31   -0.001116\n",
       "Name: Adj Close, Length: 503, dtype: float64"
      ]
     },
     "execution_count": 117,
     "metadata": {},
     "output_type": "execute_result"
    }
   ],
   "source": [
    "ACCMI=frame[\"Adj Close\"]\n",
    "DRCMI=ACCMI.pct_change()['2018':'2019']\n",
    "DRCMI"
   ]
  },
  {
   "cell_type": "code",
   "execution_count": 118,
   "metadata": {},
   "outputs": [
    {
     "data": {
      "text/plain": [
       "Date\n",
       "2018-01-02    0.008303\n",
       "2018-01-03    0.006399\n",
       "2018-01-04    0.004029\n",
       "2018-01-05    0.007034\n",
       "2018-01-08    0.001662\n",
       "                ...   \n",
       "2019-12-24   -0.000195\n",
       "2019-12-26    0.005128\n",
       "2019-12-27    0.000034\n",
       "2019-12-30   -0.005781\n",
       "2019-12-31    0.002946\n",
       "Name: Adj Close, Length: 503, dtype: float64"
      ]
     },
     "execution_count": 118,
     "metadata": {},
     "output_type": "execute_result"
    }
   ],
   "source": [
    "ACSP500=frameSP500[\"Adj Close\"]\n",
    "DRSP500=ACSP500.pct_change()['2018':'2019']\n",
    "DRSP500"
   ]
  },
  {
   "cell_type": "code",
   "execution_count": 119,
   "metadata": {},
   "outputs": [
    {
     "data": {
      "image/png": "[encoded data removed]",
      "text/plain": [
       "<Figure size 432x288 with 1 Axes>"
      ]
     },
     "metadata": {
      "needs_background": "light"
     },
     "output_type": "display_data"
    }
   ],
   "source": [
    "plt.title(\"CMI vs SP500 - Daily Returns\")\n",
    "plt.scatter(DRSP500['2018':'2019'],DRCMI['2018':'2019'])\n",
    "plt.xlabel('SP500 returns')\n",
    "plt.ylabel('CMI returns')\n",
    "plt.show()"
   ]
  },
  {
   "cell_type": "code",
   "execution_count": 120,
   "metadata": {},
   "outputs": [],
   "source": [
    "import statsmodels.api as sm"
   ]
  },
  {
   "cell_type": "code",
   "execution_count": 121,
   "metadata": {},
   "outputs": [
    {
     "name": "stdout",
     "output_type": "stream",
     "text": [
      "                            OLS Regression Results                            \n",
      "==============================================================================\n",
      "Dep. Variable:              Adj Close   R-squared:                       0.447\n",
      "Model:                            OLS   Adj. R-squared:                  0.446\n",
      "Method:                 Least Squares   F-statistic:                     405.0\n",
      "Date:                Tue, 03 Mar 2020   Prob (F-statistic):           1.88e-66\n",
      "Time:                        18:16:48   Log-Likelihood:                 1548.3\n",
      "No. Observations:                 503   AIC:                            -3093.\n",
      "Df Residuals:                     501   BIC:                            -3084.\n",
      "Df Model:                           1                                         \n",
      "Covariance Type:            nonrobust                                         \n",
      "==============================================================================\n",
      "                 coef    std err          t      P>|t|      [0.025      0.975]\n",
      "------------------------------------------------------------------------------\n",
      "const         -0.0002      0.000     -0.382      0.703      -0.001       0.001\n",
      "Adj Close      1.0647      0.053     20.125      0.000       0.961       1.169\n",
      "==============================================================================\n",
      "Omnibus:                       29.448   Durbin-Watson:                   1.921\n",
      "Prob(Omnibus):                  0.000   Jarque-Bera (JB):               78.450\n",
      "Skew:                          -0.231   Prob(JB):                     9.22e-18\n",
      "Kurtosis:                       4.879   Cond. No.                         106.\n",
      "==============================================================================\n",
      "\n",
      "Warnings:\n",
      "[1] Standard Errors assume that the covariance matrix of the errors is correctly specified.\n"
     ]
    }
   ],
   "source": [
    "indvars = sm.add_constant(DRSP500) #\n",
    "model = sm.OLS(DRCMI, indvars).fit()\n",
    "summary = model.summary()\n",
    "print(summary)"
   ]
  },
  {
   "cell_type": "code",
   "execution_count": 122,
   "metadata": {},
   "outputs": [],
   "source": [
    "#R-squard=0.447\n",
    "#The equation of the regression line is 1.0647\n",
    "#y=1.0647x-0.0002"
   ]
  },
  {
   "cell_type": "code",
   "execution_count": 123,
   "metadata": {},
   "outputs": [
    {
     "data": {
      "text/plain": [
       "0.044465764891086"
      ]
     },
     "execution_count": 123,
     "metadata": {},
     "output_type": "execute_result"
    }
   ],
   "source": [
    "max(DRCMI)"
   ]
  },
  {
   "cell_type": "code",
   "execution_count": 124,
   "metadata": {},
   "outputs": [
    {
     "data": {
      "text/plain": [
       "Open           2018-01-29\n",
       "High           2018-01-29\n",
       "Low            2018-01-29\n",
       "Close          2018-01-26\n",
       "Adj Close      2019-11-11\n",
       "Volume         2015-12-01\n",
       "Daily Return   2016-02-04\n",
       "dtype: datetime64[ns]"
      ]
     },
     "execution_count": 124,
     "metadata": {},
     "output_type": "execute_result"
    }
   ],
   "source": [
    "maxCMIRT=frame.idxmax()\n",
    "maxCMIRT"
   ]
  },
  {
   "cell_type": "code",
   "execution_count": 125,
   "metadata": {},
   "outputs": [
    {
     "data": {
      "text/plain": [
       "Open            9.118000e+01\n",
       "High            9.797000e+01\n",
       "Low             9.083000e+01\n",
       "Close           9.757000e+01\n",
       "Adj Close       8.579494e+01\n",
       "Volume          5.691400e+06\n",
       "Daily Return    7.621854e-02\n",
       "Name: 2016-02-04 00:00:00, dtype: float64"
      ]
     },
     "execution_count": 125,
     "metadata": {},
     "output_type": "execute_result"
    }
   ],
   "source": [
    "a=frame.loc['2016-02-04']\n",
    "a"
   ]
  },
  {
   "cell_type": "code",
   "execution_count": 126,
   "metadata": {},
   "outputs": [
    {
     "data": {
      "text/plain": [
       "Open           2016-01-20\n",
       "High           2016-01-15\n",
       "Low            2016-01-20\n",
       "Close          2016-01-19\n",
       "Adj Close      2016-01-19\n",
       "Volume         2019-12-24\n",
       "Daily Return   2015-10-27\n",
       "dtype: datetime64[ns]"
      ]
     },
     "execution_count": 126,
     "metadata": {},
     "output_type": "execute_result"
    }
   ],
   "source": [
    "minCMIRT=frame.idxmin()\n",
    "minCMIRT"
   ]
  },
  {
   "cell_type": "code",
   "execution_count": 127,
   "metadata": {},
   "outputs": [
    {
     "data": {
      "text/plain": [
       "Open            1.007500e+02\n",
       "High            1.044400e+02\n",
       "Low             1.006100e+02\n",
       "Close           1.023500e+02\n",
       "Adj Close       8.910178e+01\n",
       "Volume          8.068400e+06\n",
       "Daily Return   -8.697588e-02\n",
       "Name: 2015-10-27 00:00:00, dtype: float64"
      ]
     },
     "execution_count": 127,
     "metadata": {},
     "output_type": "execute_result"
    }
   ],
   "source": [
    "b=frame.loc['2015-10-27']\n",
    "b"
   ]
  },
  {
   "cell_type": "code",
   "execution_count": 128,
   "metadata": {},
   "outputs": [
    {
     "data": {
      "text/html": [
       "<div>\n",
       "<style scoped>\n",
       "    .dataframe tbody tr th:only-of-type {\n",
       "        vertical-align: middle;\n",
       "    }\n",
       "\n",
       "    .dataframe tbody tr th {\n",
       "        vertical-align: top;\n",
       "    }\n",
       "\n",
       "    .dataframe thead th {\n",
       "        text-align: right;\n",
       "    }\n",
       "</style>\n",
       "<table border=\"1\" class=\"dataframe\">\n",
       "  <thead>\n",
       "    <tr style=\"text-align: right;\">\n",
       "      <th></th>\n",
       "      <th>Open</th>\n",
       "      <th>High</th>\n",
       "      <th>Low</th>\n",
       "      <th>Close</th>\n",
       "      <th>Adj Close</th>\n",
       "      <th>Volume</th>\n",
       "      <th>Daily Return</th>\n",
       "    </tr>\n",
       "  </thead>\n",
       "  <tbody>\n",
       "    <tr>\n",
       "      <th>2016-02-04</th>\n",
       "      <td>91.18</td>\n",
       "      <td>97.970001</td>\n",
       "      <td>90.830002</td>\n",
       "      <td>97.570000</td>\n",
       "      <td>85.794937</td>\n",
       "      <td>5691400.0</td>\n",
       "      <td>0.076219</td>\n",
       "    </tr>\n",
       "    <tr>\n",
       "      <th>2015-10-27</th>\n",
       "      <td>100.75</td>\n",
       "      <td>104.440002</td>\n",
       "      <td>100.610001</td>\n",
       "      <td>102.349998</td>\n",
       "      <td>89.101784</td>\n",
       "      <td>8068400.0</td>\n",
       "      <td>-0.086976</td>\n",
       "    </tr>\n",
       "  </tbody>\n",
       "</table>\n",
       "</div>"
      ],
      "text/plain": [
       "              Open        High         Low       Close  Adj Close     Volume  \\\n",
       "2016-02-04   91.18   97.970001   90.830002   97.570000  85.794937  5691400.0   \n",
       "2015-10-27  100.75  104.440002  100.610001  102.349998  89.101784  8068400.0   \n",
       "\n",
       "            Daily Return  \n",
       "2016-02-04      0.076219  \n",
       "2015-10-27     -0.086976  "
      ]
     },
     "execution_count": 128,
     "metadata": {},
     "output_type": "execute_result"
    }
   ],
   "source": [
    "df=pd.DataFrame([a,b])\n",
    "df"
   ]
  },
  {
   "cell_type": "code",
   "execution_count": 129,
   "metadata": {},
   "outputs": [
    {
     "data": {
      "image/png": "[encoded data removed]",
      "text/plain": [
       "<Figure size 432x288 with 1 Axes>"
      ]
     },
     "metadata": {
      "needs_background": "light"
     },
     "output_type": "display_data"
    }
   ],
   "source": [
    "plt.title(\"CMI Price Move Distribution\")\n",
    "plt.hist(frame[\"Daily Return\"]['2019'], label='CMI')\n",
    "plt.legend(loc='upper left')\n",
    "plt.show()"
   ]
  },
  {
   "cell_type": "code",
   "execution_count": 130,
   "metadata": {},
   "outputs": [
    {
     "name": "stdout",
     "output_type": "stream",
     "text": [
      "mean= 0.00026\n",
      "std dev= 0.01500\n",
      "skewness= -0.4\n",
      "kurtosis= 1.2\n"
     ]
    }
   ],
   "source": [
    "print(\"mean=\", \"%.5f\" % DRCMI.mean())\n",
    "print(\"std dev=\", \"%.5f\" % DRCMI.std())\n",
    "print(\"skewness=\", \"%.1f\" % DRCMI.skew())\n",
    "print(\"kurtosis=\", \"%.1f\" % DRCMI.kurt())"
   ]
  },
  {
   "cell_type": "code",
   "execution_count": 131,
   "metadata": {},
   "outputs": [],
   "source": [
    "#Daily return of Cummins is not unber normal distribution because skewness is over -0.3 and skewness is over 0.6"
   ]
  },
  {
   "cell_type": "code",
   "execution_count": null,
   "metadata": {},
   "outputs": [],
   "source": []
  }
 ],
 "metadata": {
  "kernelspec": {
   "display_name": "Python 3",
   "language": "python",
   "name": "python3"
  },
  "language_info": {
   "codemirror_mode": {
    "name": "ipython",
    "version": 3
   },
   "file_extension": ".py",
   "mimetype": "text/x-python",
   "name": "python",
   "nbconvert_exporter": "python",
   "pygments_lexer": "ipython3",
   "version": "3.7.4"
  }
 },
 "nbformat": 4,
 "nbformat_minor": 2
}
